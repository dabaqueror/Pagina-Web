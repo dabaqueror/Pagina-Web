{
  "nbformat": 4,
  "nbformat_minor": 0,
  "metadata": {
    "colab": {
      "provenance": [],
      "include_colab_link": true
    },
    "kernelspec": {
      "name": "python3",
      "display_name": "Python 3"
    },
    "language_info": {
      "name": "python"
    }
  },
  "cells": [
    {
      "cell_type": "markdown",
      "metadata": {
        "id": "view-in-github",
        "colab_type": "text"
      },
      "source": [
        "<a href=\"https://colab.research.google.com/github/dabaqueror/Pagina-Web/blob/main/Ejercicios_Pensamiento_Computacion.ipynb\" target=\"_parent\"><img src=\"https://colab.research.google.com/assets/colab-badge.svg\" alt=\"Open In Colab\"/></a>"
      ]
    },
    {
      "cell_type": "markdown",
      "source": [
        "**Pruebas Practica 1**"
      ],
      "metadata": {
        "id": "VWe23eTBVkLV"
      }
    },
    {
      "cell_type": "code",
      "source": [
        "print(\"Hola mundo\")"
      ],
      "metadata": {
        "id": "XR7jT23R_nY9",
        "colab": {
          "base_uri": "https://localhost:8080/"
        },
        "outputId": "e860a609-1ff4-401d-e7d5-0bcea9f22053"
      },
      "execution_count": null,
      "outputs": [
        {
          "output_type": "stream",
          "name": "stdout",
          "text": [
            "Hola mundo\n"
          ]
        }
      ]
    },
    {
      "cell_type": "markdown",
      "source": [
        "**Pruebas Practica 2**"
      ],
      "metadata": {
        "id": "WQI1aKYpXUqS"
      }
    },
    {
      "cell_type": "markdown",
      "source": [
        "*Ejercicio 1*\n",
        "\n"
      ],
      "metadata": {
        "id": "wMcKrxSwXqqm"
      }
    },
    {
      "cell_type": "code",
      "source": [
        "saludo=\"Hola mundo\"\n",
        "print(saludo)"
      ],
      "metadata": {
        "colab": {
          "base_uri": "https://localhost:8080/"
        },
        "id": "mibgJ1UxXacY",
        "outputId": "aed81570-26d6-471f-e0a6-fc7c5c34ad47"
      },
      "execution_count": null,
      "outputs": [
        {
          "output_type": "stream",
          "name": "stdout",
          "text": [
            "Hola mundo\n"
          ]
        }
      ]
    },
    {
      "cell_type": "markdown",
      "source": [
        "*Ejercicio 2*"
      ],
      "metadata": {
        "id": "c88W2g5PXlU1"
      }
    },
    {
      "cell_type": "code",
      "source": [
        "numero1, numero2, numero3 = 1,2,3\n",
        "print(f\"Se imprimira el numero {numero1} , el numero  {numero2}  y el número {numero3}\")\n"
      ],
      "metadata": {
        "colab": {
          "base_uri": "https://localhost:8080/"
        },
        "id": "VtRErcnHYs0H",
        "outputId": "c4b0f0d7-f508-4f23-ae42-fba8b251104d"
      },
      "execution_count": null,
      "outputs": [
        {
          "output_type": "stream",
          "name": "stdout",
          "text": [
            "Se imprimira el numero 1 , el numero  2  y el número 3\n"
          ]
        }
      ]
    },
    {
      "cell_type": "markdown",
      "source": [
        "*Ejercicio 3*"
      ],
      "metadata": {
        "id": "Cgye4SIFblOV"
      }
    },
    {
      "cell_type": "code",
      "source": [
        "numero1, numero2, numero3 = 1,2,3\n",
        "suma=numero1+numero2+numero3 ; resta=numero1-numero2-numero3 ; multiplicacion=numero1*numero2*numero3\n",
        "division=numero1/numero2;divisionentera=numero1//numero2 ;potencia=numero2**numero3;residuo=numero3%numero2\n",
        "\n",
        "print(f\"La suma de los numeros es {suma} la resta de los numeros es {resta} la multiplicacion es {multiplicacion} la division entre 1 y 2 es {division} y la division entera entre 1 y 2 es {divisionentera} la potencia entre 2 y 3 es {potencia} el residuo entre 2 y 3 es {residuo}\")"
      ],
      "metadata": {
        "colab": {
          "base_uri": "https://localhost:8080/"
        },
        "id": "i_PqhTeKcAQt",
        "outputId": "6f5d59c5-6557-48c4-a689-e4878d0b82cf"
      },
      "execution_count": null,
      "outputs": [
        {
          "output_type": "stream",
          "name": "stdout",
          "text": [
            "La suma de los numeros es 6 la resta de los numeros es -4 la multiplicacion es 6 la division entre 1 y 2 es 0.5 y la division entera entre 1 y 2 es 0 la potencia entre 2 y 3 es 8 el residuo entre 2 y 3 es 1\n"
          ]
        }
      ]
    },
    {
      "cell_type": "markdown",
      "source": [
        "*Ejercicio 4*"
      ],
      "metadata": {
        "id": "VvNVZyP7d539"
      }
    },
    {
      "cell_type": "code",
      "source": [
        "nombre=input('Ingrese su nombre') ; edad=input('Ingrese su edad') ; edadmasuno=int(edad)+1\n",
        "print(f'Su nombre es {nombre} su edad es {edad} su edad más uno es {edadmasuno}')"
      ],
      "metadata": {
        "colab": {
          "base_uri": "https://localhost:8080/"
        },
        "id": "Jr7f0GgOdz8l",
        "outputId": "aecc23e1-de10-43e9-ff9c-40fd5448ba58"
      },
      "execution_count": null,
      "outputs": [
        {
          "output_type": "stream",
          "name": "stdout",
          "text": [
            "Ingrese su nombreDavid\n",
            "Ingrese su edad33\n",
            "Su nombre es David su edad es 33 su edad más uno es 34\n"
          ]
        }
      ]
    },
    {
      "cell_type": "markdown",
      "source": [
        "*Ejercicio 5*"
      ],
      "metadata": {
        "id": "BgTE0ZdRiUX7"
      }
    },
    {
      "cell_type": "code",
      "source": [
        "numero=int(input(\"Ingresa un numero:\"))\n",
        "print(f\"El resto entre {numero} y 2 es  {numero%2}\" )"
      ],
      "metadata": {
        "colab": {
          "base_uri": "https://localhost:8080/"
        },
        "id": "ndmXU6kOiT7y",
        "outputId": "a4e5e653-14ad-4bb0-889b-70be2418d2d3"
      },
      "execution_count": null,
      "outputs": [
        {
          "output_type": "stream",
          "name": "stdout",
          "text": [
            "Ingresa un numero:57\n",
            "El resto entre 57 y 2 es  1\n"
          ]
        }
      ]
    },
    {
      "cell_type": "markdown",
      "source": [
        "*Ejercicio 6*"
      ],
      "metadata": {
        "id": "N__kvqYGjoeh"
      }
    },
    {
      "cell_type": "code",
      "source": [
        "anionacimiento=int(input(\"Ingresa su año de nacimiento\"))\n",
        "print(f\"Su edad es {2025-anionacimiento}\" )"
      ],
      "metadata": {
        "colab": {
          "base_uri": "https://localhost:8080/"
        },
        "id": "TufYN7zejsCK",
        "outputId": "94a52a02-2f02-4719-9828-1af0a2f3619a"
      },
      "execution_count": null,
      "outputs": [
        {
          "output_type": "stream",
          "name": "stdout",
          "text": [
            "Ingresa su año de nacimiento1998\n",
            "Su edad es 27\n"
          ]
        }
      ]
    },
    {
      "cell_type": "markdown",
      "source": [
        "*Ejercicio 7a*"
      ],
      "metadata": {
        "id": "cuMUVWzQkJzL"
      }
    },
    {
      "cell_type": "code",
      "source": [
        "n1 = int(input(\"Ingrese el primer número: \"))\n",
        "n2 = int(input(\"Ingrese el segundo número: \"))\n",
        "n3 = int(input(\"Ingrese el tercer número: \"))\n",
        "n4 = int(input(\"Ingrese el cuarto número: \"))\n",
        "n5 = int(input(\"Ingrese el quinto número: \"))\n",
        "\n",
        "promedio = (n1 + n2 + n3 + n4 + n5) / 5\n",
        "print(f\"El promedio es: {promedio}\")\n",
        "\n"
      ],
      "metadata": {
        "colab": {
          "base_uri": "https://localhost:8080/"
        },
        "id": "ZPeKpyB8kODC",
        "outputId": "d7c8e26b-0bde-4c78-8605-1b47b759c39f"
      },
      "execution_count": null,
      "outputs": [
        {
          "output_type": "stream",
          "name": "stdout",
          "text": [
            "Ingrese el primer número: 15\n",
            "Ingrese el segundo número: 20\n",
            "Ingrese el tercer número: 14\n",
            "Ingrese el cuarto número: 24\n",
            "Ingrese el quinto número: 16\n",
            "El promedio es: 17.8\n"
          ]
        }
      ]
    },
    {
      "cell_type": "markdown",
      "source": [
        "*Ejercicio 7b*"
      ],
      "metadata": {
        "id": "MQy8JLH2lSVy"
      }
    },
    {
      "cell_type": "code",
      "source": [
        "suma=0\n",
        "suma += int(input(\"Ingrese el primer número: \"))\n",
        "suma += int(input(\"Ingrese el segundo número: \"))\n",
        "suma += int(input(\"Ingrese el tercer número: \"))\n",
        "suma += int(input(\"Ingrese el cuarto número: \"))\n",
        "suma += int(input(\"Ingrese el quinto número: \"))\n",
        "\n",
        "promedio = suma / 5\n",
        "print(f\"El promedio es: {promedio} y la suma es {suma}\")"
      ],
      "metadata": {
        "colab": {
          "base_uri": "https://localhost:8080/"
        },
        "id": "bsi-nmKYlVsU",
        "outputId": "211c0fd8-691a-44ea-c60f-0a7ecd5d9722"
      },
      "execution_count": null,
      "outputs": [
        {
          "output_type": "stream",
          "name": "stdout",
          "text": [
            "Ingrese el primer número: 13\n",
            "Ingrese el segundo número: 17\n",
            "Ingrese el tercer número: 20\n",
            "Ingrese el cuarto número: 25\n",
            "Ingrese el quinto número: 30\n",
            "El promedio es: 21.0 y la suma es 105\n"
          ]
        }
      ]
    },
    {
      "cell_type": "code",
      "source": [
        "suma = 0\n",
        "for i in range(5):\n",
        "    numero = int(input(f\"Ingrese el número {i + 1}: \"))\n",
        "    suma += numero\n",
        "\n",
        "promedio = suma / 5\n",
        "print(f\"El promedio es: {promedio}\")"
      ],
      "metadata": {
        "colab": {
          "base_uri": "https://localhost:8080/"
        },
        "id": "bujGKqsll-qZ",
        "outputId": "1b0e3fbc-8852-4493-f87f-dd90c6e22a70"
      },
      "execution_count": null,
      "outputs": [
        {
          "output_type": "stream",
          "name": "stdout",
          "text": [
            "Ingrese el número 1: 14\n",
            "Ingrese el número 2: 12\n",
            "Ingrese el número 3: 14\n",
            "Ingrese el número 4: 17\n",
            "Ingrese el número 5: 21\n",
            "El promedio es: 15.6\n"
          ]
        }
      ]
    },
    {
      "cell_type": "markdown",
      "source": [
        "*Ejercicio 8*"
      ],
      "metadata": {
        "id": "DReRqoDwmkgc"
      }
    },
    {
      "cell_type": "code",
      "source": [
        "def calcular_valor_absoluto(numero):\n",
        "  return print(abs(numero))\n",
        "calcular_valor_absoluto(100)"
      ],
      "metadata": {
        "colab": {
          "base_uri": "https://localhost:8080/"
        },
        "id": "sJ99d0f-mVU5",
        "outputId": "b5178749-3fbc-41c0-98f6-538f30ed3cd3"
      },
      "execution_count": null,
      "outputs": [
        {
          "output_type": "stream",
          "name": "stdout",
          "text": [
            "100\n"
          ]
        }
      ]
    },
    {
      "cell_type": "markdown",
      "source": [
        "*Ejercicio 9*"
      ],
      "metadata": {
        "id": "pEzNgGfbnBBK"
      }
    },
    {
      "cell_type": "code",
      "source": [
        "def es_par(numero):\n",
        "  return print(numero%2==0)\n",
        "es_par(7)"
      ],
      "metadata": {
        "colab": {
          "base_uri": "https://localhost:8080/"
        },
        "id": "fSaMfeHgnEuE",
        "outputId": "ca704d6e-f7b0-4dc0-9db1-8d7904d0b9fd"
      },
      "execution_count": null,
      "outputs": [
        {
          "output_type": "stream",
          "name": "stdout",
          "text": [
            "False\n"
          ]
        }
      ]
    },
    {
      "cell_type": "markdown",
      "source": [
        "*Ejericicio 10*"
      ],
      "metadata": {
        "id": "oZIcqUednd9h"
      }
    },
    {
      "cell_type": "code",
      "source": [
        "def concatenar_numero_string(numero, string):\n",
        "  concatenado=str(numero)  + string\n",
        "  return print(concatenado)\n",
        "\n",
        "concatenar_numero_string(5, 'hola')\n"
      ],
      "metadata": {
        "colab": {
          "base_uri": "https://localhost:8080/"
        },
        "id": "BaPNpyPbnhr4",
        "outputId": "9e998a1f-6537-48e6-a5df-d74d087643ad"
      },
      "execution_count": null,
      "outputs": [
        {
          "output_type": "stream",
          "name": "stdout",
          "text": [
            "5hola\n"
          ]
        }
      ]
    },
    {
      "cell_type": "markdown",
      "source": [
        "Ejercicio 11"
      ],
      "metadata": {
        "id": "5gTxG5L-7lbZ"
      }
    },
    {
      "cell_type": "code",
      "source": [
        "def calcular_resto_cociente(numeroa, numerob):\n",
        "  resto=numeroa%numerob ; cociente=numeroa//numerob\n",
        "  return (resto, cociente)\n",
        "\n",
        "calcular_resto_cociente(79,7)\n"
      ],
      "metadata": {
        "colab": {
          "base_uri": "https://localhost:8080/"
        },
        "id": "93gr3ZC17pgg",
        "outputId": "ab81151b-89cb-4738-8160-10209d6739b1"
      },
      "execution_count": null,
      "outputs": [
        {
          "output_type": "execute_result",
          "data": {
            "text/plain": [
              "(2, 11)"
            ]
          },
          "metadata": {},
          "execution_count": 61
        }
      ]
    },
    {
      "cell_type": "markdown",
      "source": [
        "Ejericicio 12"
      ],
      "metadata": {
        "id": "LxHNAuR7oYJi"
      }
    },
    {
      "cell_type": "code",
      "source": [
        "def imprimir_nombre_apellido():\n",
        "  nombre=input('Ingrese su nombre: ')\n",
        "  apellido=input('Ingrese su apellido:')\n",
        "  numero=3\n",
        "  print(apellido + \" \" +nombre)\n",
        "  return\n",
        "imprimir_nombre_apellido()\n"
      ],
      "metadata": {
        "colab": {
          "base_uri": "https://localhost:8080/"
        },
        "id": "8pBFkT-boaWi",
        "outputId": "e3bc037f-5c88-4bf6-d679-9aa4c783cf19"
      },
      "execution_count": null,
      "outputs": [
        {
          "output_type": "stream",
          "name": "stdout",
          "text": [
            "Ingrese su nombre: David\n",
            "Ingrese su apellido:Baquero\n",
            "Baquero David\n"
          ]
        }
      ]
    },
    {
      "cell_type": "markdown",
      "source": [
        "*Ejercicio 13*"
      ],
      "metadata": {
        "id": "vTiOKcj96w-Y"
      }
    },
    {
      "cell_type": "code",
      "source": [
        "def contar_letras_palabra(palabra):\n",
        "  return len(palabra)\n",
        "contar_letras_palabra('Ay')\n",
        "\n"
      ],
      "metadata": {
        "colab": {
          "base_uri": "https://localhost:8080/"
        },
        "id": "TuTJLfIu6zod",
        "outputId": "d98ffb7d-c04c-492c-cf5e-2809ebd01612"
      },
      "execution_count": null,
      "outputs": [
        {
          "output_type": "execute_result",
          "data": {
            "text/plain": [
              "2"
            ]
          },
          "metadata": {},
          "execution_count": 58
        }
      ]
    },
    {
      "cell_type": "markdown",
      "source": [
        "*Ejercicio 14*"
      ],
      "metadata": {
        "id": "tLu2rjwK7XL_"
      }
    },
    {
      "cell_type": "code",
      "source": [
        "def recortar_cinco_primeras_letras(palabra):\n",
        "  return palabra[:5]\n",
        "recortar_cinco_primeras_letras('Colore')\n",
        "\n",
        "def recortar_letras_pares(palabra1):\n",
        "  return palabra1[::2]\n",
        "recortar_letras_pares('pensamiento')\n",
        "\n",
        "def invertir_palabra(palabra2):\n",
        "  return palabra2[::-1]\n",
        "invertir_palabra('materia')"
      ],
      "metadata": {
        "colab": {
          "base_uri": "https://localhost:8080/",
          "height": 36
        },
        "id": "2CsHjaEi7ZsR",
        "outputId": "454405de-0ad5-464a-ffca-55bfab445140"
      },
      "execution_count": null,
      "outputs": [
        {
          "output_type": "execute_result",
          "data": {
            "text/plain": [
              "'airetam'"
            ],
            "application/vnd.google.colaboratory.intrinsic+json": {
              "type": "string"
            }
          },
          "metadata": {},
          "execution_count": 71
        }
      ]
    },
    {
      "cell_type": "markdown",
      "source": [
        "*Ejericicio 15* revision"
      ],
      "metadata": {
        "id": "MMapQYJS-3fN"
      }
    },
    {
      "cell_type": "code",
      "source": [
        "def quitar_letras_ea_palabra(palabra):\n",
        "  palabra=palabra.replace('a',\"\").replace('e',\"\")\n",
        "  return   palabra\n",
        "quitar_letras_ea_palabra('caserios')\n"
      ],
      "metadata": {
        "colab": {
          "base_uri": "https://localhost:8080/",
          "height": 36
        },
        "id": "tV-or1A1-859",
        "outputId": "83eeccd3-590e-4c03-9dc4-007636a29c38"
      },
      "execution_count": null,
      "outputs": [
        {
          "output_type": "execute_result",
          "data": {
            "text/plain": [
              "'csrios'"
            ],
            "application/vnd.google.colaboratory.intrinsic+json": {
              "type": "string"
            }
          },
          "metadata": {},
          "execution_count": 77
        }
      ]
    },
    {
      "cell_type": "markdown",
      "source": [
        "*Ejercicio 16*"
      ],
      "metadata": {
        "id": "Mm8JEtotDddH"
      }
    },
    {
      "cell_type": "code",
      "source": [
        "print(5 / 2)\n",
        "print(5 // 2)\n",
        "print(5 % 2)\n",
        "print(5 ** 2)\n",
        "print(5.0 / 2)\n",
        "print(5.0 // 2)\n",
        "print(5.0 % 2)\n",
        "print(5.0 ** 2)\n",
        "print(5 / 2.0)\n",
        "print(5 // 2.0)\n",
        "print(5 % 2.0)\n",
        "print(5 ** 2.0)\n",
        "print(5.0 / 2.0)\n",
        "print(5.0 // 2.0)\n",
        "print(5.0 % 2.0)\n",
        "print(5.0 ** 2.0)\n",
        "print(\"Hola\" * 2)\n",
        "print(\"Hola\" + \"2\")\n",
        "print(\"Hola\" + 2)\n"
      ],
      "metadata": {
        "colab": {
          "base_uri": "https://localhost:8080/",
          "height": 488
        },
        "id": "Vc5gQ2y7CXoF",
        "outputId": "0a7684b7-ce22-490c-c8a7-97f1f7295623"
      },
      "execution_count": null,
      "outputs": [
        {
          "output_type": "stream",
          "name": "stdout",
          "text": [
            "2.5\n",
            "2\n",
            "1\n",
            "25\n",
            "2.5\n",
            "2.0\n",
            "1.0\n",
            "25.0\n",
            "2.5\n",
            "2.0\n",
            "1.0\n",
            "25.0\n",
            "2.5\n",
            "2.0\n",
            "1.0\n",
            "25.0\n",
            "HolaHola\n",
            "Hola2\n"
          ]
        },
        {
          "output_type": "error",
          "ename": "TypeError",
          "evalue": "can only concatenate str (not \"int\") to str",
          "traceback": [
            "\u001b[0;31m---------------------------------------------------------------------------\u001b[0m",
            "\u001b[0;31mTypeError\u001b[0m                                 Traceback (most recent call last)",
            "\u001b[0;32m<ipython-input-81-60c4803e1efe>\u001b[0m in \u001b[0;36m<cell line: 0>\u001b[0;34m()\u001b[0m\n\u001b[1;32m     17\u001b[0m \u001b[0mprint\u001b[0m\u001b[0;34m(\u001b[0m\u001b[0;34m\"Hola\"\u001b[0m \u001b[0;34m*\u001b[0m \u001b[0;36m2\u001b[0m\u001b[0;34m)\u001b[0m\u001b[0;34m\u001b[0m\u001b[0;34m\u001b[0m\u001b[0m\n\u001b[1;32m     18\u001b[0m \u001b[0mprint\u001b[0m\u001b[0;34m(\u001b[0m\u001b[0;34m\"Hola\"\u001b[0m \u001b[0;34m+\u001b[0m \u001b[0;34m\"2\"\u001b[0m\u001b[0;34m)\u001b[0m\u001b[0;34m\u001b[0m\u001b[0;34m\u001b[0m\u001b[0m\n\u001b[0;32m---> 19\u001b[0;31m \u001b[0mprint\u001b[0m\u001b[0;34m(\u001b[0m\u001b[0;34m\"Hola\"\u001b[0m \u001b[0;34m+\u001b[0m \u001b[0;36m2\u001b[0m\u001b[0;34m)\u001b[0m\u001b[0;34m\u001b[0m\u001b[0;34m\u001b[0m\u001b[0m\n\u001b[0m",
            "\u001b[0;31mTypeError\u001b[0m: can only concatenate str (not \"int\") to str"
          ]
        }
      ]
    },
    {
      "cell_type": "markdown",
      "source": [
        "Ejercicio 17"
      ],
      "metadata": {
        "id": "yHyZvE3ODgU8"
      }
    },
    {
      "cell_type": "code",
      "source": [
        "def calcular_celsius(farenheit):\n",
        "  return (farenheit-32)*5/9\n",
        "print(calcular_celsius(0))\n",
        "\n",
        "def calcular_farenheit(celsius1):\n",
        "  return (celsius1*9/5)+32\n",
        "print(calcular_farenheit(32))\n"
      ],
      "metadata": {
        "colab": {
          "base_uri": "https://localhost:8080/"
        },
        "id": "uQH7H0W4Dl0s",
        "outputId": "ee81c148-2796-4c55-ae0e-ba038dc2317f"
      },
      "execution_count": null,
      "outputs": [
        {
          "output_type": "stream",
          "name": "stdout",
          "text": [
            "-17.77777777777778\n",
            "89.6\n"
          ]
        }
      ]
    },
    {
      "cell_type": "markdown",
      "source": [
        "*Ejercicio 19*"
      ],
      "metadata": {
        "id": "C1Zec2WmIHmA"
      }
    },
    {
      "cell_type": "code",
      "source": [
        "def calcular_norma_vector(v1,v2,v3):\n",
        "  return (v1**2+v2**2+v3**2)**(1/2)\n",
        "calcular_norma_vector(3,4,5)\n"
      ],
      "metadata": {
        "colab": {
          "base_uri": "https://localhost:8080/"
        },
        "id": "jiHDQ_aBIKS9",
        "outputId": "cca61a91-64fa-48cb-8f11-5fc10db2448a"
      },
      "execution_count": null,
      "outputs": [
        {
          "output_type": "execute_result",
          "data": {
            "text/plain": [
              "7.0710678118654755"
            ]
          },
          "metadata": {},
          "execution_count": 88
        }
      ]
    },
    {
      "cell_type": "markdown",
      "source": [
        "**Pruebas Practica 3 Parte 1**"
      ],
      "metadata": {
        "id": "0CV0sFRlIoBD"
      }
    },
    {
      "cell_type": "markdown",
      "source": [
        "*Ejericicio 1* Pedir verificacion"
      ],
      "metadata": {
        "id": "QO-rON6SIw8l"
      }
    },
    {
      "cell_type": "code",
      "source": [
        "def es_par(numero):\n",
        "  return numero % 2 == 0\n",
        "es_par(7)"
      ],
      "metadata": {
        "colab": {
          "base_uri": "https://localhost:8080/"
        },
        "id": "P8qEvnfLIvtX",
        "outputId": "4353055c-55e4-4e41-e0a1-5564b713181b"
      },
      "execution_count": null,
      "outputs": [
        {
          "output_type": "execute_result",
          "data": {
            "text/plain": [
              "False"
            ]
          },
          "metadata": {},
          "execution_count": 90
        }
      ]
    },
    {
      "cell_type": "markdown",
      "source": [
        "*Ejericicio 2 pedir verificacion *"
      ],
      "metadata": {
        "id": "gEgRwglYJg-F"
      }
    },
    {
      "cell_type": "code",
      "source": [
        "def calcular_absoluto(numero):\n",
        "  if numero < 0:\n",
        "    return -numero\n",
        "  else:\n",
        "    return numero\n",
        "calcular_absoluto(80)"
      ],
      "metadata": {
        "colab": {
          "base_uri": "https://localhost:8080/"
        },
        "id": "2h6m9CoTJkA9",
        "outputId": "31e06c06-2248-4e21-c70d-72ffbf2f5598"
      },
      "execution_count": null,
      "outputs": [
        {
          "output_type": "execute_result",
          "data": {
            "text/plain": [
              "80"
            ]
          },
          "metadata": {},
          "execution_count": 97
        }
      ]
    },
    {
      "cell_type": "markdown",
      "source": [
        "*Ejericicio 3*"
      ],
      "metadata": {
        "id": "AEXCKL5ZKp1M"
      }
    },
    {
      "cell_type": "code",
      "source": [
        "def es_entero(numero):\n",
        "  return numero == int(numero)\n",
        "es_entero(6.5)\n"
      ],
      "metadata": {
        "colab": {
          "base_uri": "https://localhost:8080/"
        },
        "id": "F5SZSwlXKs7W",
        "outputId": "b21e4f64-843f-4633-ad88-604f7113b78b"
      },
      "execution_count": null,
      "outputs": [
        {
          "output_type": "execute_result",
          "data": {
            "text/plain": [
              "False"
            ]
          },
          "metadata": {},
          "execution_count": 99
        }
      ]
    },
    {
      "cell_type": "markdown",
      "source": [
        "*Ejericio 4*"
      ],
      "metadata": {
        "id": "HCbTM9JrNPvr"
      }
    },
    {
      "cell_type": "code",
      "source": [
        "def es_vocal(letra):\n",
        "  if letra =='a' or letra =='e' or letra =='i' or letra =='o' or letra =='u':\n",
        "    return True\n",
        "  else:\n",
        "    return False\n",
        "print(es_vocal('b'))\n",
        "\n",
        "def es_vocal1 (letra):\n",
        "  return letra in 'aeiou'\n",
        "\n",
        "print(es_vocal1('e'))\n",
        "\n",
        "def es_vocal3(letra):\n",
        "  return letra.lower() in 'aeiou'\n",
        "print(es_vocal3('A'))\n",
        "\n"
      ],
      "metadata": {
        "colab": {
          "base_uri": "https://localhost:8080/"
        },
        "id": "UlloFupYNSQl",
        "outputId": "795bb587-e878-4c44-832d-9ad0bc0b0417"
      },
      "execution_count": null,
      "outputs": [
        {
          "output_type": "stream",
          "name": "stdout",
          "text": [
            "False\n",
            "True\n",
            "True\n"
          ]
        }
      ]
    },
    {
      "cell_type": "markdown",
      "source": [
        "*Ejercicio 5*"
      ],
      "metadata": {
        "id": "ZVQEMtzNRmCF"
      }
    },
    {
      "cell_type": "code",
      "source": [
        "def es_anio_bisiesto(anio):\n",
        "  if anio % 4 == 0 and (anio % 100 != 0 or anio % 400 == 0):\n",
        "    return True\n",
        "  else:\n",
        "    return False\n",
        "print(es_anio_bisiesto(1900))\n",
        "\n",
        "def dias_en_mes(mes, anio):\n",
        "  if mes.lower() in 'enero marzo mayo julio agosto octubre diciembre':\n",
        "    return 31\n",
        "  elif mes.lower() in 'abril junio septiembre noviembre':\n",
        "    return 30\n",
        "  elif mes.lower() == 'febrero' and es_anio_bisiesto(anio):\n",
        "    return 29\n",
        "  else:\n",
        "    return 28\n",
        "print(dias_en_mes('febrero',2000))\n",
        "\n",
        "def identificar_signo(dia, mes):\n",
        "    if (mes.lower()=='marzo' and dia >=21) or (mes.lower()=='abril' and dia <=20):\n",
        "      return 'Aries'\n",
        "    elif mes.lower()=='abril' or (mes.lower()=='mayo' and dia <=20):\n",
        "      return 'Tauro'\n",
        "    elif mes.lower()=='mayo'  or (mes.lower()=='junio' and dia <=21):\n",
        "      return 'Géminis'\n",
        "    elif mes.lower()=='junio' or (mes.lower()=='julio' and dia <=23):\n",
        "      return 'Cáncer'\n",
        "    elif mes.lower()=='julio' or (mes.lower()=='agosto' and dia <=23):\n",
        "      return 'Leo'\n",
        "    elif mes.lower()=='agosto' or (mes.lower()=='septiembre' and dia <=22):\n",
        "      return 'Virgo'\n",
        "    elif mes.lower()=='septiembre' or (mes.lower()=='octubre' and dia <=22):\n",
        "      return 'Libra'\n",
        "    elif mes.lower()=='octubre'  or (mes.lower()=='noviembre' and dia <=22):\n",
        "      return 'Escorpio'\n",
        "    elif mes.lower()=='noviembre' or (mes.lower()=='diciembre' and dia <=21):\n",
        "      return 'Sagitario'\n",
        "    elif mes.lower()=='diciembre' or (mes.lower()=='enero' and dia <=20):\n",
        "      return 'Capricornio'\n",
        "    elif mes.lower()=='enero'  or (mes.lower()=='febrero' and dia <=19):\n",
        "      return 'Acuario'\n",
        "    else:\n",
        "      return 'Tauro'\n",
        "print(identificar_signo(25, 'Julio'))\n"
      ],
      "metadata": {
        "colab": {
          "base_uri": "https://localhost:8080/"
        },
        "id": "TNuTluERRoq9",
        "outputId": "8f25c02e-7cdd-4033-8727-db2f70d90f38"
      },
      "execution_count": null,
      "outputs": [
        {
          "output_type": "stream",
          "name": "stdout",
          "text": [
            "False\n",
            "29\n",
            "Leo\n"
          ]
        }
      ]
    },
    {
      "cell_type": "markdown",
      "source": [
        "*Ejercicio 6*"
      ],
      "metadata": {
        "id": "jEz-n-jxVGXs"
      }
    },
    {
      "cell_type": "code",
      "source": [
        "def jugar_piedra_papel_tijeras():\n",
        "  print (\"Piedra papel o tijeras!\")\n",
        "  jugada=input('Ingrese su seleccion: R para piedra, P para papel o T para tijeras :')\n",
        "  if jugada=='R':\n",
        "    print('Papel gané!')\n",
        "  elif jugada == 'T':\n",
        "    print('Piedra gané!')\n",
        "  elif jugada == 'P':\n",
        "    print('Tijeras gané!')\n",
        "  else:\n",
        "    print('Jugada no disponible')\n",
        "\n",
        "jugar_piedra_papel_tijeras()"
      ],
      "metadata": {
        "colab": {
          "base_uri": "https://localhost:8080/"
        },
        "id": "eZkhukssVKLN",
        "outputId": "5ff95b2e-7647-46d1-e7e7-961f47d56e63"
      },
      "execution_count": null,
      "outputs": [
        {
          "output_type": "stream",
          "name": "stdout",
          "text": [
            "Piedra papel o tijeras!\n",
            "Ingrese su seleccion: R para piedra, P para papel o T para tijeras :R\n",
            "Papel gané!\n"
          ]
        }
      ]
    },
    {
      "cell_type": "markdown",
      "source": [
        "Ejercicio 7"
      ],
      "metadata": {
        "id": "Z4nPiGVuc-7j"
      }
    },
    {
      "cell_type": "code",
      "source": [
        "def devolver_dia_semana(numero_dia):\n",
        "  aux=numero_dia%7\n",
        "  if aux == 0:\n",
        "    return 'Domingo'\n",
        "  elif aux==6:\n",
        "    return 'Sabado'\n",
        "  elif aux==5:\n",
        "    return 'Viernes'\n",
        "  elif aux==4:\n",
        "    return 'Jueves'\n",
        "  elif aux==3:\n",
        "    return 'Miercoles'\n",
        "  elif aux==2:\n",
        "    return 'Martes'\n",
        "  else:\n",
        "    return 'Lunes'\n",
        "\n",
        "devolver_dia_semana(11)\n"
      ],
      "metadata": {
        "colab": {
          "base_uri": "https://localhost:8080/",
          "height": 36
        },
        "id": "8EUOrjeudBtL",
        "outputId": "482abdbd-db3d-477b-9f79-bbbf8184617b"
      },
      "execution_count": null,
      "outputs": [
        {
          "output_type": "execute_result",
          "data": {
            "text/plain": [
              "'Jueves'"
            ],
            "application/vnd.google.colaboratory.intrinsic+json": {
              "type": "string"
            }
          },
          "metadata": {},
          "execution_count": 173
        }
      ]
    },
    {
      "cell_type": "markdown",
      "source": [],
      "metadata": {
        "id": "gBJRamLqpkoq"
      }
    },
    {
      "cell_type": "markdown",
      "source": [
        "[texto del enlace](https://)**Pruebas Practica 3 Parte 2**"
      ],
      "metadata": {
        "id": "vnxrPfWGqNI-"
      }
    },
    {
      "cell_type": "markdown",
      "source": [
        "*Ejercicio 1*"
      ],
      "metadata": {
        "id": "7afnKHGVqQ0u"
      }
    },
    {
      "cell_type": "code",
      "source": [
        "\n",
        "for numero in range(10,21):\n",
        "  print(numero)\n",
        "\n",
        "\n",
        "for persona in ['Flaminia', 'Serena', 'Agustina', 'Priscila', 'Sol', 'Agostina', 'Iara', 'Lu']:\n",
        "  print(f'Hola {persona} como estas?')\n",
        "\n",
        "\n",
        "suma=0\n",
        "for numeros in range(5):\n",
        "  suma+=int(input('Ingrese un numero:'))\n",
        "print (f'La suma de los numeros es {suma}')\n",
        "\n",
        "\n",
        "for numero in range(100,200):\n",
        "  if numero%7==0:\n",
        "    print (numero)\n",
        "\n",
        "\n",
        "\n",
        "def es_par_es_impar(minimo, maximo):\n",
        "  for numero in range(minimo,maximo):\n",
        "    if numero%2==0:\n",
        "      print(f'El numero {numero} es par')\n",
        "    else:\n",
        "      print(f'El numero {numero} es impar')\n",
        "\n",
        "es_par_es_impar(5,17)\n"
      ],
      "metadata": {
        "colab": {
          "base_uri": "https://localhost:8080/"
        },
        "id": "c2mQUHJcqTzj",
        "outputId": "7d747c08-5632-448f-cd12-1873c42cc78a"
      },
      "execution_count": null,
      "outputs": [
        {
          "output_type": "stream",
          "name": "stdout",
          "text": [
            "El numero 5 es impar\n",
            "El numero 6 es par\n",
            "El numero 7 es impar\n",
            "El numero 8 es par\n",
            "El numero 9 es impar\n",
            "El numero 10 es par\n",
            "El numero 11 es impar\n",
            "El numero 12 es par\n",
            "El numero 13 es impar\n",
            "El numero 14 es par\n",
            "El numero 15 es impar\n",
            "El numero 16 es par\n"
          ]
        }
      ]
    },
    {
      "cell_type": "markdown",
      "source": [
        "*Ejercicio 2*"
      ],
      "metadata": {
        "id": "UFW1UmxZtYmW"
      }
    },
    {
      "cell_type": "code",
      "source": [
        "def mostrar_tablas_para(valor):\n",
        "  if valor<1 or valor>10  :\n",
        "    print('Error: el valor debe estar entre 1 y 10')\n",
        "  else:\n",
        "    for numero in range(1,11):\n",
        "      print(f'{valor}  x  {numero}  = {numero*valor}')\n",
        "mostrar_tablas_para(11)"
      ],
      "metadata": {
        "colab": {
          "base_uri": "https://localhost:8080/"
        },
        "id": "ujAodqcttau5",
        "outputId": "f3631e48-7021-4767-de77-9a125f8d2fbe"
      },
      "execution_count": null,
      "outputs": [
        {
          "output_type": "stream",
          "name": "stdout",
          "text": [
            "Error: el valor debe estar entre 1 y 10\n"
          ]
        }
      ]
    },
    {
      "cell_type": "markdown",
      "source": [
        "*Ejercicio 3*"
      ],
      "metadata": {
        "id": "_V0b8Bo6vjcj"
      }
    },
    {
      "cell_type": "code",
      "source": [
        "def cantar_veces_que_los_cumplas_feliz(repeticion):\n",
        "  for numero in range(repeticion):\n",
        "    print('Que los cumplas feliz \\n' )\n",
        "cantar_veces_que_los_cumplas_feliz(3)"
      ],
      "metadata": {
        "colab": {
          "base_uri": "https://localhost:8080/"
        },
        "id": "ZARp2ZDTvlTk",
        "outputId": "48e8bb0a-bf0a-43ae-8a3c-8398fa0182bf"
      },
      "execution_count": null,
      "outputs": [
        {
          "output_type": "stream",
          "name": "stdout",
          "text": [
            "Que los cumplas feliz \n",
            "\n",
            "Que los cumplas feliz \n",
            "\n",
            "Que los cumplas feliz \n",
            "\n"
          ]
        }
      ]
    },
    {
      "cell_type": "markdown",
      "source": [
        "Ejercicio 5"
      ],
      "metadata": {
        "id": "LifxFUL6xzTZ"
      }
    },
    {
      "cell_type": "code",
      "source": [
        "def multiplicar_numeros():\n",
        "  print('Hola! Esto es Tablas de Multiplicar')\n",
        "  valor=input('Ingrese un numero o \"X\" para salir: ')\n",
        "  while valor != 'X':\n",
        "    valor=int(valor)\n",
        "    if valor<1 or valor>10  :\n",
        "      print('Error: el valor debe estar entre 1 y 10')\n",
        "    else:\n",
        "      for numero in range(1,11):\n",
        "        print(f'{valor}  x  {numero}  = {numero*valor}')\n",
        "    valor=input('Ingrese un numero o \"X\" para salir: ')\n",
        "  print('Adios')\n",
        "multiplicar_numeros()"
      ],
      "metadata": {
        "colab": {
          "base_uri": "https://localhost:8080/"
        },
        "id": "wmtvFRjrx4NU",
        "outputId": "1eeb0ccf-28cf-49f4-c53c-5dc34b1b5c85"
      },
      "execution_count": null,
      "outputs": [
        {
          "output_type": "stream",
          "name": "stdout",
          "text": [
            "Hola! Esto es Tablas de Multiplicar\n",
            "Ingrese un numero o \"X\" para salir: 3\n",
            "3  x  1  = 3\n",
            "3  x  2  = 6\n",
            "3  x  3  = 9\n",
            "3  x  4  = 12\n",
            "3  x  5  = 15\n",
            "3  x  6  = 18\n",
            "3  x  7  = 21\n",
            "3  x  8  = 24\n",
            "3  x  9  = 27\n",
            "3  x  10  = 30\n",
            "Ingrese un numero o \"X\" para salir: 5\n",
            "5  x  1  = 5\n",
            "5  x  2  = 10\n",
            "5  x  3  = 15\n",
            "5  x  4  = 20\n",
            "5  x  5  = 25\n",
            "5  x  6  = 30\n",
            "5  x  7  = 35\n",
            "5  x  8  = 40\n",
            "5  x  9  = 45\n",
            "5  x  10  = 50\n",
            "Ingrese un numero o \"X\" para salir: -1\n",
            "Error: el valor debe estar entre 1 y 10\n",
            "Ingrese un numero o \"X\" para salir: 14\n",
            "Error: el valor debe estar entre 1 y 10\n",
            "Ingrese un numero o \"X\" para salir: X\n",
            "Adios\n"
          ]
        }
      ]
    },
    {
      "cell_type": "markdown",
      "source": [
        "*Ejercicio 6*"
      ],
      "metadata": {
        "id": "n3B9gU54zofL"
      }
    },
    {
      "cell_type": "code",
      "source": [
        "\n",
        "def verificar_contrasenia(cadena):\n",
        "  while cadena != 'XYZ':\n",
        "    print('Error debe escribir la contraseña correcta')\n",
        "    cadena=input('Ingrese la contraseña:')\n",
        "  print('Bienvenido!')\n",
        "\n",
        "#verificar_contrasenia('XYZA')\n",
        "\n",
        "def verificar_contrasenia2(cadena, intentos):\n",
        "  for numero in range(intentos):\n",
        "    if cadena == 'XYZ':\n",
        "      print('Bienvenido!')\n",
        "    elif cadena != 'XYZ' and numero<intentos-1:\n",
        "      print(f'Error debe escribir la constraseña correcta tiene {intentos-1-numero} intentos más')\n",
        "      cadena=input('Ingrese la contraseña nuevamente: ')\n",
        "    else:\n",
        "      print('Se han agotado sus intentos')\n",
        "\n",
        "#verificar_contrasenia2('XYZA',3)\n",
        "\n",
        "\n",
        "def verificar_contrasenia2(cadena, intentos):\n",
        "  for numero in range(intentos):\n",
        "    if cadena == 'XYZ':\n",
        "      return True\n",
        "    elif cadena != 'XYZ' and numero<intentos-1:\n",
        "      print(f'Error debe escribir la constraseña correcta tiene {intentos-1-numero} intentos más')\n",
        "      cadena=input('Ingrese la contraseña nuevamente: ')\n",
        "    else:\n",
        "      return False\n",
        "\n",
        "verificar_contrasenia2('XYZA',3)\n",
        "\n"
      ],
      "metadata": {
        "colab": {
          "base_uri": "https://localhost:8080/"
        },
        "id": "l1WShxFvzu7O",
        "outputId": "73bad070-8e63-426d-a421-9d9f613c9e3d"
      },
      "execution_count": null,
      "outputs": [
        {
          "name": "stdout",
          "output_type": "stream",
          "text": [
            "Error debe escribir la constraseña correcta tiene 2 intentos más\n",
            "Ingrese la contraseña nuevamente: Xa\n",
            "Error debe escribir la constraseña correcta tiene 1 intentos más\n",
            "Ingrese la contraseña nuevamente: XYZ\n"
          ]
        },
        {
          "output_type": "execute_result",
          "data": {
            "text/plain": [
              "True"
            ]
          },
          "metadata": {},
          "execution_count": 230
        }
      ]
    },
    {
      "cell_type": "markdown",
      "source": [
        "***Ejercicio 7***"
      ],
      "metadata": {
        "id": "CzSPKDx1zlb7"
      }
    },
    {
      "cell_type": "code",
      "source": [
        "import random\n",
        "def adivinar_numero(numero):\n",
        "  intentos=3\n",
        "  contador=1\n",
        "  llave = random.randint(1, 10)\n",
        "  print(llave)\n",
        "  while numero!=llave and contador<intentos :\n",
        "    contador+=1\n",
        "    if numero<llave:\n",
        "      print('El numero a adivinar es mayor')\n",
        "    else:\n",
        "      print('El numero a adivinar es menor')\n",
        "    numero=int(input(\"Ingrese otro numero: \"))\n",
        "  if numero==llave:\n",
        "    print(\"Felicitaciones\")\n",
        "  else:\n",
        "    print(\"No se encontro el numero\")\n",
        "numero1=int(input(\"Ingrese  un numero entre 1 y 10: \"))\n",
        "adivinar_numero(numero1)\n",
        "\n",
        "\n"
      ],
      "metadata": {
        "colab": {
          "base_uri": "https://localhost:8080/"
        },
        "id": "yq16zYBezpqY",
        "outputId": "fe0922bd-737a-4fab-8065-bb5d71d9d10b"
      },
      "execution_count": null,
      "outputs": [
        {
          "output_type": "stream",
          "name": "stdout",
          "text": [
            "Ingrese  un numero entre 1 y 10: 5\n",
            "3\n",
            "El numero a adivinar es menor\n",
            "Ingrese otro numero: 2\n",
            "El numero a adivinar es mayor\n",
            "Ingrese otro numero: 3\n",
            "Felicitaciones\n"
          ]
        }
      ]
    },
    {
      "cell_type": "markdown",
      "source": [
        "*Ejercicio 8*"
      ],
      "metadata": {
        "id": "ybP1EMf087QH"
      }
    },
    {
      "cell_type": "code",
      "source": [
        "def sacar_peluches(numero_fichas):\n",
        "  contador=0\n",
        "  while contador<numero_fichas:\n",
        "    valor_ingresado=input(f'Ingresá {numero_fichas-contador} fichas para jugar: ')\n",
        "    if valor_ingresado=='F':\n",
        "      contador+=1\n",
        "  print( 'A jugar!')\n",
        "sacar_peluches(5)\n"
      ],
      "metadata": {
        "id": "JtgTXda28-uz",
        "colab": {
          "base_uri": "https://localhost:8080/"
        },
        "outputId": "bcff54a3-115d-46a9-ba16-abb26152a874"
      },
      "execution_count": null,
      "outputs": [
        {
          "output_type": "stream",
          "name": "stdout",
          "text": [
            "Ingresá 5 fichas para jugar: 3\n",
            "Ingresá 5 fichas para jugar: 4\n",
            "Ingresá 5 fichas para jugar: 6\n",
            "Ingresá 5 fichas para jugar: F\n",
            "Ingresá 4 fichas para jugar: F\n",
            "Ingresá 3 fichas para jugar: F\n",
            "Ingresá 2 fichas para jugar: F\n",
            "Ingresá 1 fichas para jugar: F\n",
            "A jugar!\n"
          ]
        }
      ]
    },
    {
      "cell_type": "markdown",
      "source": [
        "*Ejercicio 9*"
      ],
      "metadata": {
        "id": "2_QVKqWo6IAP"
      }
    },
    {
      "cell_type": "code",
      "source": [
        "def es_numero_primo(numero):\n",
        "  dato=True\n",
        "  for factor in range(2,numero):\n",
        "    if numero%factor==0:\n",
        "      dato=False\n",
        "  return dato\n",
        "es_numero_primo(7)"
      ],
      "metadata": {
        "colab": {
          "base_uri": "https://localhost:8080/"
        },
        "id": "ebQSq7PA6Kmc",
        "outputId": "e17f2cb9-8607-4b58-9b54-7a10bcad9e77"
      },
      "execution_count": null,
      "outputs": [
        {
          "output_type": "execute_result",
          "data": {
            "text/plain": [
              "True"
            ]
          },
          "metadata": {},
          "execution_count": 246
        }
      ]
    },
    {
      "cell_type": "markdown",
      "source": [
        "*Ejercicio 10*"
      ],
      "metadata": {
        "id": "boSbHkWL-6fC"
      }
    },
    {
      "cell_type": "code",
      "source": [
        "def calcular_factores_primos(numero_maximo):\n",
        "  for valor in range(2,numero_maximo):\n",
        "    es_primo=True\n",
        "    for factor in range(2,valor):\n",
        "      if valor%factor==0:\n",
        "        es_primo=False\n",
        "        break\n",
        "    if es_primo:\n",
        "      print(valor)\n",
        "\n",
        "\n",
        "\n",
        "calcular_factores_primos(25)"
      ],
      "metadata": {
        "colab": {
          "base_uri": "https://localhost:8080/"
        },
        "id": "8OlbfAPy-9AS",
        "outputId": "efd11de2-f3e6-444f-972a-e8f16e638eb7"
      },
      "execution_count": null,
      "outputs": [
        {
          "output_type": "stream",
          "name": "stdout",
          "text": [
            "2\n",
            "3\n",
            "5\n",
            "7\n",
            "11\n",
            "13\n",
            "17\n",
            "19\n",
            "23\n"
          ]
        }
      ]
    },
    {
      "cell_type": "markdown",
      "source": [
        "*Ejercicio 11*"
      ],
      "metadata": {
        "id": "YT4pU2_4DKDB"
      }
    },
    {
      "cell_type": "code",
      "source": [
        "'''\n",
        "def calcular_multiplos_7(numero_minimo,numero_maximo):\n",
        "  suma=0\n",
        "  datos=0\n",
        "  for numero in range(numero_minimo,numero_maximo):\n",
        "    if numero%7==0:\n",
        "      datos+=1\n",
        "      suma+=numero\n",
        "  promedio=suma/datos\n",
        "  print(f'La suma es {suma}')\n",
        "  print(f'El promedio es {promedio}')\n",
        "calcular_multiplos_7(3,50)\n",
        "'''\n",
        "\n",
        "\n",
        "\"\"\"\n",
        "def calcular_multiplos_7(numero_minimo,numero_maximo):\n",
        "  suma=0\n",
        "  datos=0\n",
        "  for numero in range(numero_minimo,numero_maximo):\n",
        "    if numero%7==0:\n",
        "      datos+=1\n",
        "      suma+=numero\n",
        "    if datos==3 :\n",
        "      break\n",
        "  promedio=suma/datos\n",
        "  print(f'La suma es {suma}')\n",
        "  print(f'El promedio es {promedio}')\n",
        "calcular_multiplos_7(3,50)\n",
        "\"\"\"\n",
        "\n",
        "\n",
        "\n",
        "def calcular_multiplos_7(numero_minimo,numero_maximo):\n",
        "  suma=0\n",
        "  datos=0\n",
        "  for numero in range(numero_minimo,numero_maximo):\n",
        "    if numero%7==0:\n",
        "      if numero%2==0:\n",
        "        continue\n",
        "      print(numero)\n",
        "      datos+=1\n",
        "      suma+=numero\n",
        "  promedio=suma/datos\n",
        "  print(f'La suma es {suma}')\n",
        "  print(f'El promedio es {promedio}')\n",
        "calcular_multiplos_7(3,50)\n"
      ],
      "metadata": {
        "colab": {
          "base_uri": "https://localhost:8080/"
        },
        "id": "SYkT25o_DM9g",
        "outputId": "c441d77f-9f70-4900-bd1c-0aa6cea266a7"
      },
      "execution_count": null,
      "outputs": [
        {
          "output_type": "stream",
          "name": "stdout",
          "text": [
            "7\n",
            "21\n",
            "35\n",
            "49\n",
            "La suma es 112\n",
            "El promedio es 28.0\n"
          ]
        }
      ]
    },
    {
      "cell_type": "markdown",
      "source": [
        "**Pruebas Practica 4-1**"
      ],
      "metadata": {
        "id": "txRt90vpIUlQ"
      }
    },
    {
      "cell_type": "markdown",
      "source": [
        "*Ejercicio 1*"
      ],
      "metadata": {
        "id": "tg9npO4GIZ1y"
      }
    },
    {
      "cell_type": "code",
      "source": [
        "cadena=\"separar\"\n",
        "dato=\"-\".join(cadena)\n",
        "print(dato)\n",
        "\n",
        "cadena=\"Hola mundo aqui\"\n",
        "variable=cadena.replace(\" \", \"_\")\n",
        "print(variable)"
      ],
      "metadata": {
        "colab": {
          "base_uri": "https://localhost:8080/"
        },
        "id": "6JbOav-qIbda",
        "outputId": "65440d42-31fb-406d-d13e-64b238c6fa83"
      },
      "execution_count": null,
      "outputs": [
        {
          "output_type": "stream",
          "name": "stdout",
          "text": [
            "s-e-p-a-r-a-r\n",
            "Hola_mundo_aqui\n"
          ]
        }
      ]
    },
    {
      "cell_type": "code",
      "source": [
        "def reemplazar_digitos(cadena, caracter):\n",
        "    return ''.join(caracter if c.isdigit() else c for c in cadena)\n",
        "reemplazar_digitos(\"su clave es: 1540\",\"*\")"
      ],
      "metadata": {
        "colab": {
          "base_uri": "https://localhost:8080/",
          "height": 36
        },
        "id": "SkkIg4bdON6w",
        "outputId": "cd262d47-e626-4434-d64e-dfe62db3b01e"
      },
      "execution_count": null,
      "outputs": [
        {
          "output_type": "execute_result",
          "data": {
            "text/plain": [
              "'su clave es: ****'"
            ],
            "application/vnd.google.colaboratory.intrinsic+json": {
              "type": "string"
            }
          },
          "metadata": {},
          "execution_count": 62
        }
      ]
    },
    {
      "cell_type": "code",
      "source": [
        "def reemplazar_digitos(cadena, caracter):\n",
        "    cadena2 = \"\"  # Empezamos con una cadena vacía\n",
        "    for letra in cadena:\n",
        "        if letra.isdigit():  # Corrección aquí\n",
        "            cadena2 += caracter\n",
        "        else:\n",
        "            cadena2 += letra\n",
        "    return cadena2\n",
        "\n",
        "reemplazar_digitos(\"su clave es: 1540\",\"*\")\n"
      ],
      "metadata": {
        "colab": {
          "base_uri": "https://localhost:8080/",
          "height": 36
        },
        "id": "c5uVtd_uOiLJ",
        "outputId": "476e4f03-2927-4399-8b1a-4e00cca6600c"
      },
      "execution_count": null,
      "outputs": [
        {
          "output_type": "execute_result",
          "data": {
            "text/plain": [
              "'su clave es: ****'"
            ],
            "application/vnd.google.colaboratory.intrinsic+json": {
              "type": "string"
            }
          },
          "metadata": {},
          "execution_count": 65
        }
      ]
    },
    {
      "cell_type": "code",
      "source": [
        "def insertar_cada_tres_digitos(cadena, caracter):\n",
        "    bloques = []\n",
        "    for i in range(0, len(cadena), 3):\n",
        "        bloques.append(cadena[i:i+3])\n",
        "    return caracter.join(bloques)\n",
        "\n",
        "resultado = insertar_cada_tres_digitos(\"2552552550\", \".\")\n",
        "print(resultado)"
      ],
      "metadata": {
        "colab": {
          "base_uri": "https://localhost:8080/"
        },
        "id": "U06SZp14MPEd",
        "outputId": "92582f11-8df7-4dbf-cd42-e6faa039e1bb"
      },
      "execution_count": null,
      "outputs": [
        {
          "output_type": "stream",
          "name": "stdout",
          "text": [
            "255.255.255.0\n"
          ]
        }
      ]
    },
    {
      "cell_type": "markdown",
      "source": [
        "*Ejercicio 2*"
      ],
      "metadata": {
        "id": "eWGlvh7IMMqN"
      }
    },
    {
      "cell_type": "code",
      "source": [
        "def separar_por_miles(cadena_numeros,caracter):\n",
        "  bloques=[]\n",
        "  fin_primer_bloque=len(cadena_numeros)%3\n",
        "  if fin_primer_bloque==0:\n",
        "    fin_primer_bloque=3\n",
        "  bloques.append(cadena_numeros[0:fin_primer_bloque])\n",
        "  for i in range(fin_primer_bloque, len(cadena_numeros), 3):\n",
        "      bloques.append(cadena_numeros[i:i+3])\n",
        "  return caracter.join(bloques)\n",
        "\n",
        "separar_por_miles('1534',\".\")\n",
        "\n"
      ],
      "metadata": {
        "colab": {
          "base_uri": "https://localhost:8080/",
          "height": 36
        },
        "id": "LitnNuY7cHf1",
        "outputId": "d8527b64-6067-4d91-ca20-424b8de28a89"
      },
      "execution_count": null,
      "outputs": [
        {
          "output_type": "execute_result",
          "data": {
            "text/plain": [
              "'1.534'"
            ],
            "application/vnd.google.colaboratory.intrinsic+json": {
              "type": "string"
            }
          },
          "metadata": {},
          "execution_count": 107
        }
      ]
    },
    {
      "cell_type": "markdown",
      "source": [
        "*Ejercicio 3*"
      ],
      "metadata": {
        "id": "NDMNnEh4kqeQ"
      }
    },
    {
      "cell_type": "code",
      "source": [
        "def primeras_letras(cadena):\n",
        "  iniciales=\"\"\n",
        "  auxiliar=cadena.split()\n",
        "  for palabra in auxiliar:\n",
        "    iniciales+=palabra[0]\n",
        "  return iniciales.upper()\n",
        "\n",
        "\n",
        "primeras_letras('Arroz ciana y cazajista papa')"
      ],
      "metadata": {
        "colab": {
          "base_uri": "https://localhost:8080/",
          "height": 36
        },
        "id": "-t53DtVIksXV",
        "outputId": "c6631d5b-c193-467a-f74b-aab300fbf981"
      },
      "execution_count": null,
      "outputs": [
        {
          "output_type": "execute_result",
          "data": {
            "text/plain": [
              "'ACYCP'"
            ],
            "application/vnd.google.colaboratory.intrinsic+json": {
              "type": "string"
            }
          },
          "metadata": {},
          "execution_count": 125
        }
      ]
    },
    {
      "cell_type": "code",
      "source": [
        "def es_palindromo(cadena):\n",
        "    normalizada = ''.join(cadena.lower().split())\n",
        "    return normalizada == normalizada[::-1]\n",
        "\n",
        "es_palindromo('anita lava la tina')"
      ],
      "metadata": {
        "colab": {
          "base_uri": "https://localhost:8080/"
        },
        "id": "NIO4panAnp7r",
        "outputId": "6cc4a3e8-593a-45dc-b9f2-629bb4830f94"
      },
      "execution_count": null,
      "outputs": [
        {
          "output_type": "execute_result",
          "data": {
            "text/plain": [
              "True"
            ]
          },
          "metadata": {},
          "execution_count": 127
        }
      ]
    },
    {
      "cell_type": "markdown",
      "source": [
        "*Ejercicio 4*"
      ],
      "metadata": {
        "id": "Jo6QxzDJoFs0"
      }
    },
    {
      "cell_type": "code",
      "source": [
        "def es_subcadena(cadena1, cadena2):\n",
        "    return cadena2 in cadena1\n",
        "es_subcadena('Hola Mundo', 'Hola')"
      ],
      "metadata": {
        "colab": {
          "base_uri": "https://localhost:8080/"
        },
        "id": "wI7feo12oE4v",
        "outputId": "fcb79d93-ff70-4ba2-a38e-1f17f4b0b1f7"
      },
      "execution_count": null,
      "outputs": [
        {
          "output_type": "execute_result",
          "data": {
            "text/plain": [
              "True"
            ]
          },
          "metadata": {},
          "execution_count": 130
        }
      ]
    },
    {
      "cell_type": "code",
      "source": [
        "def menor_alfabeticamente(cadena1, cadena2):\n",
        "    return min(cadena1.lower(), cadena2.lower())\n",
        "menor_alfabeticamente(\"adios\", \"baby\")"
      ],
      "metadata": {
        "colab": {
          "base_uri": "https://localhost:8080/",
          "height": 36
        },
        "id": "TEPQsBELpfI_",
        "outputId": "1ccfad72-9b40-4c48-d206-9aaea0a64306"
      },
      "execution_count": null,
      "outputs": [
        {
          "output_type": "execute_result",
          "data": {
            "text/plain": [
              "'adios'"
            ],
            "application/vnd.google.colaboratory.intrinsic+json": {
              "type": "string"
            }
          },
          "metadata": {},
          "execution_count": 134
        }
      ]
    },
    {
      "cell_type": "markdown",
      "source": [
        "*Ejericicio 5*"
      ],
      "metadata": {
        "id": "Mrg5dXQdp_e_"
      }
    },
    {
      "cell_type": "code",
      "source": [
        "def volver_mayuscula(letra):\n",
        "  return letra.upper()\n",
        "\n",
        "def caracteres_mayuscula(cadena):\n",
        "    return list(map(volver_mayuscula, cadena))\n",
        "caracteres_mayuscula('Holiis')"
      ],
      "metadata": {
        "colab": {
          "base_uri": "https://localhost:8080/"
        },
        "id": "jjow2rZZqB8a",
        "outputId": "bac66de9-f9e5-4081-df5e-f46fe3bb4104"
      },
      "execution_count": null,
      "outputs": [
        {
          "output_type": "execute_result",
          "data": {
            "text/plain": [
              "['H', 'O', 'L', 'I', 'I', 'S']"
            ]
          },
          "metadata": {},
          "execution_count": 142
        }
      ]
    },
    {
      "cell_type": "markdown",
      "source": [
        "*Ejercicio 6*"
      ],
      "metadata": {
        "id": "j_aveduDqw_k"
      }
    },
    {
      "cell_type": "code",
      "source": [
        "def noes_vocal(letra):\n",
        "  return letra.lower() not in \"aeiou\"\n",
        "\n",
        "def no_vocales(cadena):\n",
        "    return tuple(filter(noes_vocal, cadena))\n",
        "\n",
        "no_vocales(\"Caraceristicas\")\n"
      ],
      "metadata": {
        "colab": {
          "base_uri": "https://localhost:8080/"
        },
        "id": "brntBaffqzJc",
        "outputId": "7ec05564-59ba-43eb-85e2-4455396d8d98"
      },
      "execution_count": null,
      "outputs": [
        {
          "output_type": "execute_result",
          "data": {
            "text/plain": [
              "('C', 'r', 'c', 'r', 's', 't', 'c', 's')"
            ]
          },
          "metadata": {},
          "execution_count": 144
        }
      ]
    },
    {
      "cell_type": "markdown",
      "source": [
        "*Ejercicio 7*"
      ],
      "metadata": {
        "id": "2HEp8QRfse3R"
      }
    },
    {
      "cell_type": "code",
      "source": [
        "def indice_ultimo(cadena):\n",
        "    return len(cadena) - 1\n",
        "indice_ultimo('comerciales')"
      ],
      "metadata": {
        "colab": {
          "base_uri": "https://localhost:8080/"
        },
        "id": "NqiP4NDvsgz9",
        "outputId": "b2700d9e-a1e7-49e0-974a-7a131a9b67e4"
      },
      "execution_count": null,
      "outputs": [
        {
          "output_type": "execute_result",
          "data": {
            "text/plain": [
              "10"
            ]
          },
          "metadata": {},
          "execution_count": 145
        }
      ]
    },
    {
      "cell_type": "code",
      "source": [
        "pedazo='caminare'\n",
        "pedazo[3:0:-1]"
      ],
      "metadata": {
        "colab": {
          "base_uri": "https://localhost:8080/",
          "height": 36
        },
        "id": "alQ5J5Zgulmf",
        "outputId": "22b16449-5597-4136-d71b-568e44efa242"
      },
      "execution_count": null,
      "outputs": [
        {
          "output_type": "execute_result",
          "data": {
            "text/plain": [
              "'ima'"
            ],
            "application/vnd.google.colaboratory.intrinsic+json": {
              "type": "string"
            }
          },
          "metadata": {},
          "execution_count": 150
        }
      ]
    },
    {
      "cell_type": "markdown",
      "source": [
        "**Pruebas Practica 4-2**"
      ],
      "metadata": {
        "id": "fbIegYDlvHBR"
      }
    },
    {
      "cell_type": "markdown",
      "source": [
        "*Ejercicio 1*"
      ],
      "metadata": {
        "id": "0HrEOOwUvOcl"
      }
    },
    {
      "cell_type": "code",
      "source": [
        "\"\"\"\n",
        "for x in range(10, 51, 5):\n",
        "  print(x)\n",
        "\n",
        "for y in range(40, 19, -2):\n",
        "  print(y)\n",
        "\"\"\"\n",
        "datos=list(range(4,11))\n",
        "print(datos)\n",
        "datos[0]"
      ],
      "metadata": {
        "colab": {
          "base_uri": "https://localhost:8080/"
        },
        "id": "YubiFqzTvWWL",
        "outputId": "fd3807aa-0f48-43ab-a169-3bc99b25eae1"
      },
      "execution_count": null,
      "outputs": [
        {
          "output_type": "stream",
          "name": "stdout",
          "text": [
            "[4, 5, 6, 7, 8, 9, 10]\n"
          ]
        },
        {
          "output_type": "execute_result",
          "data": {
            "text/plain": [
              "4"
            ]
          },
          "metadata": {},
          "execution_count": 161
        }
      ]
    },
    {
      "cell_type": "markdown",
      "source": [
        "*Ejercicio 2*"
      ],
      "metadata": {
        "id": "FVRZ2-dT2GCi"
      }
    },
    {
      "cell_type": "code",
      "source": [
        "def es_par_longitud(lista):\n",
        "  return len(lista)%2==0\n",
        "\n",
        "def calcular_maximo(lista):\n",
        "  return max(lista)\n",
        "\n",
        "def ordenar_lista(lista):\n",
        "  return sorted(lista)\n",
        "\n",
        "es_par_longitud([1,4,6])\n",
        "calcular_maximo([1,4,17])\n",
        "ordenar_lista([4,7,4,17])"
      ],
      "metadata": {
        "colab": {
          "base_uri": "https://localhost:8080/"
        },
        "id": "xKn7Hbll2Ha2",
        "outputId": "804ca0fd-13b9-4cf2-9ded-81306c76047c"
      },
      "execution_count": null,
      "outputs": [
        {
          "output_type": "execute_result",
          "data": {
            "text/plain": [
              "[4, 4, 7, 17]"
            ]
          },
          "metadata": {},
          "execution_count": 169
        }
      ]
    },
    {
      "cell_type": "markdown",
      "source": [
        "*Ejercicio 3*"
      ],
      "metadata": {
        "id": "nNZrbl9L5jb8"
      }
    },
    {
      "cell_type": "code",
      "source": [
        "def chequear_falta_cupo(lista,participantes):\n",
        "  return lista[participantes:len(lista)]\n",
        "chequear_falta_cupo(['Agustina', 'Iara', 'Priscila', 'Sol', 'Lucía'], 1)\n",
        "\n",
        "def nombrar_ultima_persona_participante(lista,participantes):\n",
        "  return lista[participantes-1]\n",
        "nombrar_ultima_persona_participante(['Agustina', 'Iara', 'Priscila', 'Sol', 'Lucía'], 2)"
      ],
      "metadata": {
        "colab": {
          "base_uri": "https://localhost:8080/",
          "height": 36
        },
        "id": "mLd06Dfi5lW_",
        "outputId": "d814758f-3a8d-47a5-851a-a0e2b3c52d60"
      },
      "execution_count": null,
      "outputs": [
        {
          "output_type": "execute_result",
          "data": {
            "text/plain": [
              "'Iara'"
            ],
            "application/vnd.google.colaboratory.intrinsic+json": {
              "type": "string"
            }
          },
          "metadata": {},
          "execution_count": 174
        }
      ]
    },
    {
      "cell_type": "markdown",
      "source": [
        "*Ejercicio 5*"
      ],
      "metadata": {
        "id": "PbZ1BrGv6kez"
      }
    },
    {
      "cell_type": "code",
      "source": [
        "def chequear_encaje_domino(ficha1, ficha2):\n",
        "  return (ficha1[0]==ficha2[1] or ficha1[1]==ficha2[0] or ficha1[0]==ficha2[0]or ficha1[1]==ficha2[1])\n",
        "chequear_encaje_domino((1,4),(4,5))"
      ],
      "metadata": {
        "colab": {
          "base_uri": "https://localhost:8080/"
        },
        "id": "l9az4CCH6nmY",
        "outputId": "263193f6-952e-4bee-9d4b-448f1381e6db"
      },
      "execution_count": null,
      "outputs": [
        {
          "output_type": "execute_result",
          "data": {
            "text/plain": [
              "True"
            ]
          },
          "metadata": {},
          "execution_count": 192
        }
      ]
    },
    {
      "cell_type": "code",
      "source": [
        "def chequear_encaje_domino(fichaformato1, fichaformato2):\n",
        "  ficha1=fichaformato1.split(\"-\")\n",
        "  ficha2=fichaformato2.split(\"-\")\n",
        "  return (ficha1[0]==ficha2[1] or ficha1[1]==ficha2[0] or ficha1[0]==ficha2[0]or ficha1[1]==ficha2[1])\n",
        "chequear_encaje_domino(\"2-5\",\"4-5\")"
      ],
      "metadata": {
        "colab": {
          "base_uri": "https://localhost:8080/"
        },
        "id": "-7DEePrx8Il4",
        "outputId": "451fb8e0-c7be-429b-ec98-f1a3fc8414f7"
      },
      "execution_count": null,
      "outputs": [
        {
          "output_type": "execute_result",
          "data": {
            "text/plain": [
              "True"
            ]
          },
          "metadata": {},
          "execution_count": 197
        }
      ]
    },
    {
      "cell_type": "markdown",
      "source": [
        "*Ejercicio 6*"
      ],
      "metadata": {
        "id": "OLXkm8Lk_GyM"
      }
    },
    {
      "cell_type": "code",
      "source": [
        "def calcular_producto_escalar(v1,v2):\n",
        "  if len(v1)!=len(v2):\n",
        "    return 'None'\n",
        "  valor=0\n",
        "  for i in range(len(v1)):\n",
        "    valor+=v1[i]*v2[i]\n",
        "  return valor\n",
        "calcular_producto_escalar([7,5,3],[3,2,7])"
      ],
      "metadata": {
        "colab": {
          "base_uri": "https://localhost:8080/"
        },
        "id": "96MPGMxj_Vq_",
        "outputId": "88a5bb00-90c7-44d5-e815-4cd63705bab8"
      },
      "execution_count": null,
      "outputs": [
        {
          "output_type": "execute_result",
          "data": {
            "text/plain": [
              "52"
            ]
          },
          "metadata": {},
          "execution_count": 204
        }
      ]
    },
    {
      "cell_type": "markdown",
      "source": [
        "*Ejercicio 7*"
      ],
      "metadata": {
        "id": "UgEbJJ1_Ct2f"
      }
    },
    {
      "cell_type": "code",
      "source": [
        "def cambiar_valor_tupla(tupla,posicion,valor):\n",
        "  lista_auxiliar=list(tupla)\n",
        "  lista_auxiliar[posicion]=valor\n",
        "  return tuple(lista_auxiliar)\n",
        "cambiar_valor_tupla((1,2,3),2,5)"
      ],
      "metadata": {
        "colab": {
          "base_uri": "https://localhost:8080/"
        },
        "id": "pwgKV4PlCv0B",
        "outputId": "1ba4be0e-102d-4e32-9a08-10388fb827ff"
      },
      "execution_count": null,
      "outputs": [
        {
          "output_type": "execute_result",
          "data": {
            "text/plain": [
              "(1, 2, 5)"
            ]
          },
          "metadata": {},
          "execution_count": 205
        }
      ]
    },
    {
      "cell_type": "code",
      "source": [
        "def cambiar_valor_lista(lista,posicion,valor):\n",
        "  lista[posicion]=valor\n",
        "  return lista\n",
        "cambiar_valor_lista([1,2,3],2,5)"
      ],
      "metadata": {
        "colab": {
          "base_uri": "https://localhost:8080/"
        },
        "id": "DRScP6BTDh5V",
        "outputId": "509cb22b-b4a4-492f-f642-12549f9d09c5"
      },
      "execution_count": null,
      "outputs": [
        {
          "output_type": "execute_result",
          "data": {
            "text/plain": [
              "[1, 2, 5]"
            ]
          },
          "metadata": {},
          "execution_count": 206
        }
      ]
    },
    {
      "cell_type": "code",
      "source": [
        "def eliminar_valor_tupla(tupla,valor):\n",
        "  if valor not in tupla:\n",
        "    return tupla\n",
        "  lista_auxiliar=list(tupla)\n",
        "  lista_auxiliar.remove(valor)\n",
        "  return tuple(lista_auxiliar)\n",
        "eliminar_valor_tupla((1,2,3),7)"
      ],
      "metadata": {
        "colab": {
          "base_uri": "https://localhost:8080/"
        },
        "id": "r5NqNMfWEOqG",
        "outputId": "d4afcbd7-077d-410f-f13a-dec4c0c890db"
      },
      "execution_count": null,
      "outputs": [
        {
          "output_type": "execute_result",
          "data": {
            "text/plain": [
              "(1, 2, 3)"
            ]
          },
          "metadata": {},
          "execution_count": 210
        }
      ]
    },
    {
      "cell_type": "markdown",
      "source": [
        "*Ejercicio 8*"
      ],
      "metadata": {
        "id": "qaK7z8I7FVB_"
      }
    },
    {
      "cell_type": "code",
      "source": [
        "def modificar_lista(lista,indice):\n",
        "  longitud=len(lista)-1\n",
        "  valor_final=longitud-indice\n",
        "  lista_auxiliar=lista[longitud:valor_final:-1]\n",
        "  for i in lista_auxiliar:\n",
        "    print(i)\n",
        "    lista.pop()\n",
        "  return lista\n",
        "modificar_lista([1,2,3,4,5,6,7,8,9],3)\n"
      ],
      "metadata": {
        "colab": {
          "base_uri": "https://localhost:8080/"
        },
        "id": "ZhxzJd22FW4u",
        "outputId": "54fb94dc-bbec-40a1-9b57-6764d9d376f7"
      },
      "execution_count": null,
      "outputs": [
        {
          "output_type": "stream",
          "name": "stdout",
          "text": [
            "9\n",
            "8\n",
            "7\n"
          ]
        },
        {
          "output_type": "execute_result",
          "data": {
            "text/plain": [
              "[1, 2, 3, 4, 5, 6]"
            ]
          },
          "metadata": {},
          "execution_count": 217
        }
      ]
    },
    {
      "cell_type": "markdown",
      "source": [
        "*Ejercicio 9*"
      ],
      "metadata": {
        "id": "AD8-UK1cHTGn"
      }
    },
    {
      "cell_type": "code",
      "source": [
        "def invertir_lista(lista):\n",
        "  longitud=len(lista)-1\n",
        "  lista_auxiliar=lista[longitud:0:-1]\n",
        "  return lista_auxiliar\n",
        "invertir_lista([1,2,3,4,5,6,7,8,9])"
      ],
      "metadata": {
        "colab": {
          "base_uri": "https://localhost:8080/"
        },
        "id": "Q8b00yExHVCf",
        "outputId": "8a743ebd-df22-431b-e90f-39c3fc2395f6"
      },
      "execution_count": null,
      "outputs": [
        {
          "output_type": "execute_result",
          "data": {
            "text/plain": [
              "[9, 8, 7, 6, 5, 4, 3, 2]"
            ]
          },
          "metadata": {},
          "execution_count": 218
        }
      ]
    },
    {
      "cell_type": "markdown",
      "source": [
        "*Ejercicio 10*"
      ],
      "metadata": {
        "id": "3YOvOTfTIFA6"
      }
    },
    {
      "cell_type": "code",
      "source": [
        "def secuenciar_numeros(datos):\n",
        "  lista=list(range(1,datos+1))\n",
        "  return lista\n",
        "secuenciar_numeros(5)\n"
      ],
      "metadata": {
        "colab": {
          "base_uri": "https://localhost:8080/"
        },
        "id": "OqqDY2ElIHAb",
        "outputId": "96859ec5-bb6b-4c6a-e14b-75027379274e"
      },
      "execution_count": null,
      "outputs": [
        {
          "output_type": "execute_result",
          "data": {
            "text/plain": [
              "[1, 2, 3, 4, 5]"
            ]
          },
          "metadata": {},
          "execution_count": 225
        }
      ]
    },
    {
      "cell_type": "markdown",
      "source": [
        "*Ejercicio 11*"
      ],
      "metadata": {
        "id": "grsXbMhWJ7eR"
      }
    },
    {
      "cell_type": "code",
      "source": [
        "def devolver_valor_matriz(Matriz, Tupla):\n",
        "  return Matriz[Tupla[0]][Tupla[1]]\n",
        "devolver_valor_matriz([[1,2,3],[4,5,6],[7,8,9]],(0,2))\n"
      ],
      "metadata": {
        "colab": {
          "base_uri": "https://localhost:8080/"
        },
        "id": "NAK_dUWFJ9dR",
        "outputId": "d21cad06-ceae-4044-dc44-88d7c9ead1d9"
      },
      "execution_count": null,
      "outputs": [
        {
          "output_type": "execute_result",
          "data": {
            "text/plain": [
              "3"
            ]
          },
          "metadata": {},
          "execution_count": 229
        }
      ]
    },
    {
      "cell_type": "markdown",
      "source": [
        "*Ejercicio 12*"
      ],
      "metadata": {
        "id": "Okb6mlUCK8XL"
      }
    },
    {
      "cell_type": "code",
      "source": [
        "def listar_compras_supermercado(cadena):\n",
        "  lista_cadena=cadena.split(\",\")\n",
        "  return lista_cadena\n",
        "listar_compras_supermercado(\"tomate,lechuga,pan\")\n"
      ],
      "metadata": {
        "colab": {
          "base_uri": "https://localhost:8080/"
        },
        "id": "mS35Qnv2K-X1",
        "outputId": "92a764dd-84e0-4c50-903b-772733fa2d5a"
      },
      "execution_count": null,
      "outputs": [
        {
          "output_type": "execute_result",
          "data": {
            "text/plain": [
              "['tomate', 'lechuga', 'pan']"
            ]
          },
          "metadata": {},
          "execution_count": 231
        }
      ]
    },
    {
      "cell_type": "code",
      "source": [
        "def unir_listas_y_precio(producto,precio):\n",
        "  lista_producto=producto.split(\",\")\n",
        "  lista_precio=precio.split(\",\")\n",
        "  lista_final=[]\n",
        "  for i in range(len(lista_producto)):\n",
        "    lista_final.append((lista_producto[i], lista_precio[i]))\n",
        "  return lista_final\n",
        "\n",
        "def dar_costos(tuplas):\n",
        "  suma=0\n",
        "  for i in range(len(tuplas)):\n",
        "    suma+=int(tuplas[i][1])\n",
        "  return suma\n",
        "\n",
        "tuplas=unir_listas_y_precio(\"tomate,lechuga,pan\",\"600,200,300\")\n",
        "print(tuplas)\n",
        "costo=dar_costos(tuplas)\n",
        "print(costo)\n"
      ],
      "metadata": {
        "colab": {
          "base_uri": "https://localhost:8080/"
        },
        "id": "gEIrO0MDMESL",
        "outputId": "d0a865b7-153c-4781-ead6-51342df95f64"
      },
      "execution_count": null,
      "outputs": [
        {
          "output_type": "stream",
          "name": "stdout",
          "text": [
            "[('tomate', '600'), ('lechuga', '200'), ('pan', '300')]\n",
            "1100\n"
          ]
        }
      ]
    },
    {
      "cell_type": "code",
      "source": [],
      "metadata": {
        "colab": {
          "base_uri": "https://localhost:8080/"
        },
        "id": "szVa9p73NsjE",
        "outputId": "e2372893-7a79-4a48-cb15-27c12abc2343"
      },
      "execution_count": null,
      "outputs": [
        {
          "output_type": "execute_result",
          "data": {
            "text/plain": [
              "1500"
            ]
          },
          "metadata": {},
          "execution_count": 239
        }
      ]
    },
    {
      "cell_type": "markdown",
      "source": [
        "*Ejercicio 13*"
      ],
      "metadata": {
        "id": "j66fl46zPY8g"
      }
    },
    {
      "cell_type": "code",
      "source": [
        "def listar_mercado():\n",
        "  auxiliar=0\n",
        "  lista=\"\"\n",
        "  while auxiliar !='X':\n",
        "    auxiliar=input(\"Ingrese el producto para la lista o X para salir: \")\n",
        "    if auxiliar=='X':\n",
        "      lista=lista[:-1]\n",
        "      break\n",
        "    lista=lista+auxiliar+\",\"\n",
        "  return lista\n",
        "listar_mercado()\n",
        "\n",
        "\n"
      ],
      "metadata": {
        "colab": {
          "base_uri": "https://localhost:8080/",
          "height": 105
        },
        "id": "a4G0MD-4Pctj",
        "outputId": "3b2fe73b-d641-4cb1-c5fb-6f4f8aba1245"
      },
      "execution_count": null,
      "outputs": [
        {
          "name": "stdout",
          "output_type": "stream",
          "text": [
            "Ingrese el producto para la lista o X para salir: arroz\n",
            "Ingrese el producto para la lista o X para salir: papa\n",
            "Ingrese el producto para la lista o X para salir: miel\n",
            "Ingrese el producto para la lista o X para salir: X\n"
          ]
        },
        {
          "output_type": "execute_result",
          "data": {
            "text/plain": [
              "'arroz,papa,miel'"
            ],
            "application/vnd.google.colaboratory.intrinsic+json": {
              "type": "string"
            }
          },
          "metadata": {},
          "execution_count": 254
        }
      ]
    },
    {
      "cell_type": "markdown",
      "source": [
        "*Ejercicio 14*"
      ],
      "metadata": {
        "id": "b5jIUzaYUE5s"
      }
    },
    {
      "cell_type": "code",
      "source": [
        "def ordenar_y_unir(lista_palabras):\n",
        "    lista_palabras.sort()  # ordena en lugar\n",
        "    return ' '.join(lista_palabras)\n",
        "\n",
        "resultado = ordenar_y_unir(['hola', 'como', 'estas'])\n",
        "print(resultado)"
      ],
      "metadata": {
        "colab": {
          "base_uri": "https://localhost:8080/"
        },
        "id": "K2tf_uR7UG4H",
        "outputId": "952ce3ca-5feb-4e57-e1a3-2d5d429a3623"
      },
      "execution_count": null,
      "outputs": [
        {
          "output_type": "stream",
          "name": "stdout",
          "text": [
            "como estas hola\n"
          ]
        }
      ]
    },
    {
      "cell_type": "markdown",
      "source": [
        "*Ejercicio 15*"
      ],
      "metadata": {
        "id": "YrPe6nseUvx4"
      }
    },
    {
      "cell_type": "code",
      "source": [
        "def crear_matriz_identidad(tamaño):\n",
        "  matriz=[]\n",
        "  for i in range(tamaño):\n",
        "    fila=[]\n",
        "    for j in range(tamaño):\n",
        "      if i==j:\n",
        "        fila.append(1)\n",
        "      else:\n",
        "        fila.append(0)\n",
        "    matriz.append(fila)\n",
        "  return matriz\n",
        "\n",
        "crear_matriz_identidad(3)\n"
      ],
      "metadata": {
        "colab": {
          "base_uri": "https://localhost:8080/"
        },
        "id": "0EFzwiepUxxJ",
        "outputId": "ce188273-98dc-4d03-ad90-d3a8acc3085e"
      },
      "execution_count": null,
      "outputs": [
        {
          "output_type": "execute_result",
          "data": {
            "text/plain": [
              "[[1, 0, 0], [0, 1, 0], [0, 0, 1]]"
            ]
          },
          "metadata": {},
          "execution_count": 260
        }
      ]
    },
    {
      "cell_type": "markdown",
      "source": [
        "Ejercicio 16"
      ],
      "metadata": {
        "id": "Uo8PKY7SV6XL"
      }
    },
    {
      "cell_type": "code",
      "source": [
        "def invertir_matriz(matriz):\n",
        "  matriz_invertida=[]\n",
        "  for i in range(len(matriz)):\n",
        "    fila=[]\n",
        "    for j in range(len(matriz)):\n",
        "      fila.append(matriz[j][i])\n",
        "    matriz_invertida.append(fila)\n",
        "  return matriz_invertida\n",
        "invertir_matriz([[1,2,3],[4,5,6]])"
      ],
      "metadata": {
        "colab": {
          "base_uri": "https://localhost:8080/"
        },
        "id": "DNtXI0qwV71V",
        "outputId": "e910a60e-7396-4b84-ed2c-86dcb5cf0974"
      },
      "execution_count": null,
      "outputs": [
        {
          "output_type": "execute_result",
          "data": {
            "text/plain": [
              "[[1, 4], [2, 5]]"
            ]
          },
          "metadata": {},
          "execution_count": 261
        }
      ]
    },
    {
      "cell_type": "markdown",
      "source": [
        "**Pruebas Practica 4-3 Diccionarios**"
      ],
      "metadata": {
        "id": "MHoQ2oAwc1tS"
      }
    },
    {
      "cell_type": "code",
      "source": [
        "def tuplas_a_diccionario(lista):\n",
        "    diccionario = {}\n",
        "    for clave, valor in lista:\n",
        "        if clave in diccionario:\n",
        "            diccionario[clave].append(valor)\n",
        "        else:\n",
        "            diccionario[clave] = [valor]\n",
        "    return diccionario\n",
        "\n",
        "l = [('Hola', 'don Pepito'), ('Hola', 'don Jose'), ('Buenos', 'días')]\n",
        "print(tuplas_a_diccionario(l))"
      ],
      "metadata": {
        "colab": {
          "base_uri": "https://localhost:8080/"
        },
        "id": "qBmDuZHYc5AU",
        "outputId": "e26a45d1-1945-4be8-bf79-105f1c9a33f4"
      },
      "execution_count": 1,
      "outputs": [
        {
          "output_type": "stream",
          "name": "stdout",
          "text": [
            "{'Hola': ['don Pepito', 'don Jose'], 'Buenos': ['días']}\n"
          ]
        }
      ]
    },
    {
      "cell_type": "markdown",
      "source": [
        "*Ejercicio 2*"
      ],
      "metadata": {
        "id": "m94BcV8Sjy-B"
      }
    },
    {
      "cell_type": "code",
      "source": [
        "def contar_palabras(cadena):\n",
        "    palabras = cadena.lower().split()\n",
        "    contador = {}\n",
        "    for palabra in palabras:\n",
        "        if palabra in contador:\n",
        "            contador[palabra] += 1\n",
        "        else:\n",
        "            contador[palabra] = 1\n",
        "    return contador\n",
        "contar_palabras(\"Que lindo dia que hace hoy\")"
      ],
      "metadata": {
        "colab": {
          "base_uri": "https://localhost:8080/"
        },
        "id": "-dLPB_EWj1-I",
        "outputId": "5a7a516f-a4ac-4077-ae25-bbc46d344766"
      },
      "execution_count": 7,
      "outputs": [
        {
          "output_type": "execute_result",
          "data": {
            "text/plain": [
              "{'que': 2, 'lindo': 1, 'dia': 1, 'hace': 1, 'hoy': 1}"
            ]
          },
          "metadata": {},
          "execution_count": 7
        }
      ]
    },
    {
      "cell_type": "code",
      "source": [
        "def contar_palabras(cadena):\n",
        "    letras = cadena.lower().split()\n",
        "    contador = {}\n",
        "    for letra in palabras:\n",
        "        if palabra in contador:\n",
        "            contador[palabra] += 1\n",
        "        else:\n",
        "            contador[palabra] = 1\n",
        "    return contador\n",
        "contar_palabras(\"Que lindo dia que hace hoy\")"
      ],
      "metadata": {
        "id": "zage_hzXkmtj"
      },
      "execution_count": null,
      "outputs": []
    }
  ]
}